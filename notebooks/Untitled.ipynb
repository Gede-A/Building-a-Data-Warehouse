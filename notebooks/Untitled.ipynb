{
 "cells": [
  {
   "cell_type": "code",
   "execution_count": 4,
   "id": "3568c453-8968-4ed4-8854-933ea6319ed2",
   "metadata": {},
   "outputs": [
    {
     "name": "stdout",
     "output_type": "stream",
     "text": [
      "   Message ID         Sender                       Date  \\\n",
      "0       12459 -1001666492664  2024-10-12 13:34:37+00:00   \n",
      "1       12458 -1001666492664  2024-10-12 13:34:37+00:00   \n",
      "2       12457 -1001666492664  2024-10-12 13:31:40+00:00   \n",
      "3       12456 -1001666492664  2024-10-12 13:31:40+00:00   \n",
      "4       12455 -1001666492664  2024-10-12 13:31:40+00:00   \n",
      "\n",
      "                                             Message  \n",
      "0  PRENATAL 150 SOFTGELS \\nPrice 5500 birr \\nTele...  \n",
      "1  NIDO 1.8KG \\nPrice 4500 birr \\nTelegram https:...  \n",
      "2  Aptamil No.3  800GM \\nPrice 3600 birr \\nTelegr...  \n",
      "3  Aptamil No.2  800GM \\nPrice 3600 birr \\nTelegr...  \n",
      "4  Aptamil No.1  800GM \\nPrice 3600 birr \\nTelegr...  \n"
     ]
    }
   ],
   "source": [
    "import pandas as pd\n",
    "medical_data = pd.read_csv('../data/raw/scraped.csv')\n",
    "framed_medical_data = pd.DataFrame(medical_data)\n",
    "print(framed_medical_data.head())"
   ]
  },
  {
   "cell_type": "code",
   "execution_count": 9,
   "id": "0d543b0a-4fd0-4f0d-b726-d2de2462c35c",
   "metadata": {},
   "outputs": [],
   "source": [
    "framed_medical_data.drop_duplicates(subset = ['Message'], inplace=True)"
   ]
  },
  {
   "cell_type": "code",
   "execution_count": 10,
   "id": "9ccffc4a-4098-4ac4-b688-73d9227654bf",
   "metadata": {},
   "outputs": [
    {
     "data": {
      "text/plain": [
       "Message ID    True\n",
       "Sender        True\n",
       "Date          True\n",
       "Message       True\n",
       "dtype: bool"
      ]
     },
     "execution_count": 10,
     "metadata": {},
     "output_type": "execute_result"
    }
   ],
   "source": [
    "framed_medical_data.drop_duplicates().any()"
   ]
  },
  {
   "cell_type": "code",
   "execution_count": 11,
   "id": "32497a2b-3715-449c-ac5e-63bf0700777f",
   "metadata": {},
   "outputs": [
    {
     "name": "stdout",
     "output_type": "stream",
     "text": [
      "Number of duplicate rows: 0\n"
     ]
    }
   ],
   "source": [
    "# Count the number of duplicate rows\n",
    "duplicate_count = framed_medical_data.duplicated().sum()\n",
    "print(\"Number of duplicate rows:\", duplicate_count)\n"
   ]
  },
  {
   "cell_type": "code",
   "execution_count": 12,
   "id": "3d37596e-8b6c-4d71-8364-73504f26a4fb",
   "metadata": {},
   "outputs": [
    {
     "data": {
      "text/plain": [
       "Message ID    0\n",
       "Sender        0\n",
       "Date          0\n",
       "Message       1\n",
       "dtype: int64"
      ]
     },
     "execution_count": 12,
     "metadata": {},
     "output_type": "execute_result"
    }
   ],
   "source": [
    "framed_medical_data.isnull().sum()"
   ]
  },
  {
   "cell_type": "code",
   "execution_count": null,
   "id": "6d7a6cc5-bcc4-420c-b674-82516e608704",
   "metadata": {},
   "outputs": [],
   "source": [
    "framed_medical_data.fillna()"
   ]
  }
 ],
 "metadata": {
  "kernelspec": {
   "display_name": "Python 3 (ipykernel)",
   "language": "python",
   "name": "python3"
  },
  "language_info": {
   "codemirror_mode": {
    "name": "ipython",
    "version": 3
   },
   "file_extension": ".py",
   "mimetype": "text/x-python",
   "name": "python",
   "nbconvert_exporter": "python",
   "pygments_lexer": "ipython3",
   "version": "3.12.6"
  }
 },
 "nbformat": 4,
 "nbformat_minor": 5
}
